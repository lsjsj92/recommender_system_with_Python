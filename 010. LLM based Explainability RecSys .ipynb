{
 "cells": [
  {
   "cell_type": "code",
   "execution_count": 78,
   "id": "7a6caca3-db33-4610-87a3-3331ad342413",
   "metadata": {},
   "outputs": [],
   "source": [
    "from torch.utils.data import TensorDataset\n",
    "from torch.utils.data import DataLoader\n",
    "from torch.utils.data import Dataset\n",
    "from tqdm import tqdm\n",
    "from sklearn.preprocessing import LabelEncoder\n",
    "from sklearn.model_selection import train_test_split\n",
    "\n",
    "from langchain.docstore.document import Document\n",
    "from langchain.chains.summarize import load_summarize_chain\n",
    "from langchain_community.embeddings import HuggingFaceEmbeddings\n",
    "from langchain_openai import OpenAIEmbeddings\n",
    "from langchain.text_splitter import RecursiveCharacterTextSplitter\n",
    "from langchain_community.vectorstores.faiss import FAISS\n",
    "from langchain.document_loaders.csv_loader import CSVLoader\n",
    "from langchain.prompts import PromptTemplate\n",
    "from langchain_openai import OpenAI, ChatOpenAI\n",
    "from langchain.chains import LLMChain\n",
    "from langchain.chains import RetrievalQA\n",
    "\n",
    "from collections import defaultdict\n",
    "\n",
    "import time\n",
    "import os\n",
    "import random\n",
    "import pandas as pd\n",
    "import numpy as np\n",
    "import torch\n",
    "import torch.nn as nn\n",
    "import torch.nn.functional as F\n",
    "import torch.utils.data as Data\n",
    "import math\n",
    "import requests\n",
    "import json\n",
    "import pickle\n"
   ]
  },
  {
   "cell_type": "code",
   "execution_count": 79,
   "id": "6db84a61-92a7-40e0-ba06-b6f8b0dc6a77",
   "metadata": {},
   "outputs": [
    {
     "data": {
      "text/plain": [
       "True"
      ]
     },
     "execution_count": 79,
     "metadata": {},
     "output_type": "execute_result"
    }
   ],
   "source": [
    "from dotenv import load_dotenv\n",
    "\n",
    "load_dotenv()"
   ]
  },
  {
   "cell_type": "code",
   "execution_count": 80,
   "id": "0ddd644c-1973-4c61-a88e-b10d49cc2ba2",
   "metadata": {},
   "outputs": [],
   "source": [
    "project_path = os.path.abspath(os.getcwd())\n",
    "data_dir_nm = 'data'\n",
    "model_dir_nm = 'model'\n",
    "data_path = f\"{project_path}/{data_dir_nm}\"\n",
    "model_path = f\"{project_path}/{model_dir_nm}\""
   ]
  },
  {
   "cell_type": "markdown",
   "id": "5411d293-2104-4520-bb25-cc1d09d8385b",
   "metadata": {},
   "source": [
    "# Load data\n",
    "- MovieLens1M movie info\n",
    "- MovieLens test set\n",
    "- LabelEncoder\n",
    "- model"
   ]
  },
  {
   "cell_type": "code",
   "execution_count": 81,
   "id": "c89865d0-d454-42e2-9f3f-67b0b046f7c1",
   "metadata": {},
   "outputs": [],
   "source": [
    "with open('./data/movielens1m_label_encoders.pkl', 'rb') as f:\n",
    "    label_encoders = pickle.load(f)"
   ]
  },
  {
   "cell_type": "code",
   "execution_count": 85,
   "id": "5bd214e6-5032-4b54-a3bf-f00fc5990333",
   "metadata": {},
   "outputs": [],
   "source": [
    "movie_info = pd.read_csv(f\"{data_path}/movies.csv\", dtype=str)\n",
    "test_df = pd.read_csv(f\"{data_path}/movielens1m_test.csv\", dtype=str)\n",
    "movielens_rcmm_origin = pd.read_csv(f\"{data_path}/movielens_rcmm.csv\", dtype=str)"
   ]
  },
  {
   "cell_type": "code",
   "execution_count": 86,
   "id": "787d1ab6-4d70-4fc1-a527-4e4509e499ee",
   "metadata": {},
   "outputs": [
    {
     "data": {
      "text/html": [
       "<div>\n",
       "<style scoped>\n",
       "    .dataframe tbody tr th:only-of-type {\n",
       "        vertical-align: middle;\n",
       "    }\n",
       "\n",
       "    .dataframe tbody tr th {\n",
       "        vertical-align: top;\n",
       "    }\n",
       "\n",
       "    .dataframe thead th {\n",
       "        text-align: right;\n",
       "    }\n",
       "</style>\n",
       "<table border=\"1\" class=\"dataframe\">\n",
       "  <thead>\n",
       "    <tr style=\"text-align: right;\">\n",
       "      <th></th>\n",
       "      <th>movie_id</th>\n",
       "      <th>title</th>\n",
       "      <th>movie_decade</th>\n",
       "      <th>genre</th>\n",
       "    </tr>\n",
       "  </thead>\n",
       "  <tbody>\n",
       "    <tr>\n",
       "      <th>0</th>\n",
       "      <td>1</td>\n",
       "      <td>Toy Story</td>\n",
       "      <td>1990s</td>\n",
       "      <td>Animation</td>\n",
       "    </tr>\n",
       "    <tr>\n",
       "      <th>1</th>\n",
       "      <td>2</td>\n",
       "      <td>Jumanji</td>\n",
       "      <td>1990s</td>\n",
       "      <td>Adventure</td>\n",
       "    </tr>\n",
       "    <tr>\n",
       "      <th>2</th>\n",
       "      <td>3</td>\n",
       "      <td>Grumpier Old Men</td>\n",
       "      <td>1990s</td>\n",
       "      <td>Comedy</td>\n",
       "    </tr>\n",
       "    <tr>\n",
       "      <th>3</th>\n",
       "      <td>4</td>\n",
       "      <td>Waiting to Exhale</td>\n",
       "      <td>1990s</td>\n",
       "      <td>Comedy</td>\n",
       "    </tr>\n",
       "    <tr>\n",
       "      <th>4</th>\n",
       "      <td>5</td>\n",
       "      <td>Father of the Bride Part II</td>\n",
       "      <td>1990s</td>\n",
       "      <td>Comedy</td>\n",
       "    </tr>\n",
       "  </tbody>\n",
       "</table>\n",
       "</div>"
      ],
      "text/plain": [
       "  movie_id                        title movie_decade      genre\n",
       "0        1                    Toy Story        1990s  Animation\n",
       "1        2                      Jumanji        1990s  Adventure\n",
       "2        3             Grumpier Old Men        1990s     Comedy\n",
       "3        4            Waiting to Exhale        1990s     Comedy\n",
       "4        5  Father of the Bride Part II        1990s     Comedy"
      ]
     },
     "execution_count": 86,
     "metadata": {},
     "output_type": "execute_result"
    }
   ],
   "source": [
    "movie_info.head()"
   ]
  },
  {
   "cell_type": "code",
   "execution_count": 87,
   "id": "313ad90a-618f-4184-8426-8b39f6aaa701",
   "metadata": {},
   "outputs": [
    {
     "data": {
      "text/html": [
       "<div>\n",
       "<style scoped>\n",
       "    .dataframe tbody tr th:only-of-type {\n",
       "        vertical-align: middle;\n",
       "    }\n",
       "\n",
       "    .dataframe tbody tr th {\n",
       "        vertical-align: top;\n",
       "    }\n",
       "\n",
       "    .dataframe thead th {\n",
       "        text-align: right;\n",
       "    }\n",
       "</style>\n",
       "<table border=\"1\" class=\"dataframe\">\n",
       "  <thead>\n",
       "    <tr style=\"text-align: right;\">\n",
       "      <th></th>\n",
       "      <th>user_id</th>\n",
       "      <th>movie_id</th>\n",
       "      <th>movie_decade</th>\n",
       "      <th>movie_year</th>\n",
       "      <th>rating_year</th>\n",
       "      <th>rating_month</th>\n",
       "      <th>rating_decade</th>\n",
       "      <th>genre1</th>\n",
       "      <th>genre2</th>\n",
       "      <th>genre3</th>\n",
       "      <th>gender</th>\n",
       "      <th>age</th>\n",
       "      <th>occupation</th>\n",
       "      <th>zip</th>\n",
       "      <th>label</th>\n",
       "    </tr>\n",
       "  </thead>\n",
       "  <tbody>\n",
       "    <tr>\n",
       "      <th>0</th>\n",
       "      <td>2741</td>\n",
       "      <td>957</td>\n",
       "      <td>7</td>\n",
       "      <td>65</td>\n",
       "      <td>0</td>\n",
       "      <td>7</td>\n",
       "      <td>0</td>\n",
       "      <td>4</td>\n",
       "      <td>6</td>\n",
       "      <td>15</td>\n",
       "      <td>1</td>\n",
       "      <td>2</td>\n",
       "      <td>6</td>\n",
       "      <td>3078</td>\n",
       "      <td>1.0</td>\n",
       "    </tr>\n",
       "    <tr>\n",
       "      <th>1</th>\n",
       "      <td>4931</td>\n",
       "      <td>609</td>\n",
       "      <td>8</td>\n",
       "      <td>70</td>\n",
       "      <td>0</td>\n",
       "      <td>5</td>\n",
       "      <td>0</td>\n",
       "      <td>0</td>\n",
       "      <td>14</td>\n",
       "      <td>15</td>\n",
       "      <td>1</td>\n",
       "      <td>2</td>\n",
       "      <td>3</td>\n",
       "      <td>1918</td>\n",
       "      <td>1.0</td>\n",
       "    </tr>\n",
       "    <tr>\n",
       "      <th>2</th>\n",
       "      <td>5786</td>\n",
       "      <td>3143</td>\n",
       "      <td>8</td>\n",
       "      <td>73</td>\n",
       "      <td>0</td>\n",
       "      <td>11</td>\n",
       "      <td>0</td>\n",
       "      <td>4</td>\n",
       "      <td>17</td>\n",
       "      <td>15</td>\n",
       "      <td>1</td>\n",
       "      <td>1</td>\n",
       "      <td>15</td>\n",
       "      <td>3397</td>\n",
       "      <td>0.0</td>\n",
       "    </tr>\n",
       "    <tr>\n",
       "      <th>3</th>\n",
       "      <td>5917</td>\n",
       "      <td>1741</td>\n",
       "      <td>8</td>\n",
       "      <td>78</td>\n",
       "      <td>0</td>\n",
       "      <td>10</td>\n",
       "      <td>0</td>\n",
       "      <td>4</td>\n",
       "      <td>17</td>\n",
       "      <td>15</td>\n",
       "      <td>1</td>\n",
       "      <td>4</td>\n",
       "      <td>13</td>\n",
       "      <td>417</td>\n",
       "      <td>0.0</td>\n",
       "    </tr>\n",
       "    <tr>\n",
       "      <th>4</th>\n",
       "      <td>1339</td>\n",
       "      <td>1009</td>\n",
       "      <td>6</td>\n",
       "      <td>52</td>\n",
       "      <td>0</td>\n",
       "      <td>10</td>\n",
       "      <td>0</td>\n",
       "      <td>0</td>\n",
       "      <td>0</td>\n",
       "      <td>15</td>\n",
       "      <td>1</td>\n",
       "      <td>4</td>\n",
       "      <td>4</td>\n",
       "      <td>1800</td>\n",
       "      <td>1.0</td>\n",
       "    </tr>\n",
       "  </tbody>\n",
       "</table>\n",
       "</div>"
      ],
      "text/plain": [
       "  user_id movie_id movie_decade movie_year rating_year rating_month  \\\n",
       "0    2741      957            7         65           0            7   \n",
       "1    4931      609            8         70           0            5   \n",
       "2    5786     3143            8         73           0           11   \n",
       "3    5917     1741            8         78           0           10   \n",
       "4    1339     1009            6         52           0           10   \n",
       "\n",
       "  rating_decade genre1 genre2 genre3 gender age occupation   zip label  \n",
       "0             0      4      6     15      1   2          6  3078   1.0  \n",
       "1             0      0     14     15      1   2          3  1918   1.0  \n",
       "2             0      4     17     15      1   1         15  3397   0.0  \n",
       "3             0      4     17     15      1   4         13   417   0.0  \n",
       "4             0      0      0     15      1   4          4  1800   1.0  "
      ]
     },
     "execution_count": 87,
     "metadata": {},
     "output_type": "execute_result"
    }
   ],
   "source": [
    "test_df.head()"
   ]
  },
  {
   "cell_type": "markdown",
   "id": "676a5c72-9880-4c6a-9265-9c2be4e41f2f",
   "metadata": {},
   "source": [
    "# Set dataset"
   ]
  },
  {
   "cell_type": "code",
   "execution_count": 16,
   "id": "0d842fff-d3fb-485f-a845-5707ae1be82e",
   "metadata": {},
   "outputs": [],
   "source": [
    "class MVLensDataset(Dataset):\n",
    "    def __init__(self, data, u_i_cols, label_col):\n",
    "        self.n = data.shape[0]\n",
    "        self.y = data[label_col].astype(np.float32).values.reshape(-1, 1)\n",
    "\n",
    "        self.u_i_cols = u_i_cols\n",
    "        \n",
    "        self.data_v = data[self.u_i_cols].astype(np.int64).values\n",
    "\n",
    "        self.field_dims = np.max(self.data_v, axis=0) + 1\n",
    "\n",
    "\n",
    "    def __len__(self):\n",
    "        return self.n\n",
    "\n",
    "    def __getitem__(self, idx):\n",
    "        return [self.data_v[idx], self.y[idx]]\n",
    "        \n",
    "u_i_feature = ['user_id', 'movie_id']\n",
    "label = 'label'\n",
    "batch_size = 512\n",
    "test_dataset = MVLensDataset(data=test_df, u_i_cols=u_i_feature, label_col=label)\n",
    "test_dataloader = DataLoader(test_dataset, batch_size=batch_size, shuffle=False)"
   ]
  },
  {
   "cell_type": "markdown",
   "id": "e132b9d3-bd38-4901-9048-7ae84cb55d63",
   "metadata": {},
   "source": [
    "# Set Model (NCF)"
   ]
  },
  {
   "cell_type": "code",
   "execution_count": 10,
   "id": "fb9fb05d-3342-4fcd-a8f0-c548ffb157a3",
   "metadata": {},
   "outputs": [],
   "source": [
    "class NeuMF(torch.nn.Module):\n",
    "    def __init__(self, config):\n",
    "        super(NeuMF, self).__init__()\n",
    "        # config \n",
    "        self.config = config\n",
    "        self.num_users = config['num_users']\n",
    "        self.num_items = config['num_items']\n",
    "        self.latent_dim_mf = config['latent_dim_mf']\n",
    "        self.latent_dim_mlp = config['latent_dim_mlp']\n",
    "        # Embedding setting\n",
    "        self.embedding_user_mlp = torch.nn.Embedding(num_embeddings=self.num_users, embedding_dim=self.latent_dim_mlp)\n",
    "        self.embedding_item_mlp = torch.nn.Embedding(num_embeddings=self.num_items, embedding_dim=self.latent_dim_mlp)\n",
    "        self.embedding_user_mf = torch.nn.Embedding(num_embeddings=self.num_users, embedding_dim=self.latent_dim_mf)\n",
    "        self.embedding_item_mf = torch.nn.Embedding(num_embeddings=self.num_items, embedding_dim=self.latent_dim_mf)\n",
    "        # MLP layer\n",
    "        self.fc_layers = torch.nn.ModuleList()\n",
    "        for idx, (in_size, out_size) in enumerate(zip(config['layers'][:-1], config['layers'][1:])):\n",
    "            self.fc_layers.append(torch.nn.Linear(in_size, out_size))\n",
    "        # output layer\n",
    "        self.affine_output = torch.nn.Linear(in_features=config['layers'][-1] + config['latent_dim_mf'], out_features=1)\n",
    "        self.logistic = torch.nn.Sigmoid()\n",
    "\n",
    "    def forward(self, user_indices, item_indices):\n",
    "        user_embedding_mlp = self.embedding_user_mlp(user_indices)\n",
    "        item_embedding_mlp = self.embedding_item_mlp(item_indices)\n",
    "        user_embedding_mf = self.embedding_user_mf(user_indices)\n",
    "        item_embedding_mf = self.embedding_item_mf(item_indices)\n",
    "        # MLP, MF\n",
    "        mlp_vector = torch.cat([user_embedding_mlp, item_embedding_mlp], dim=-1)\n",
    "        mf_vector =torch.mul(user_embedding_mf, item_embedding_mf)\n",
    "\n",
    "        # MLP feed\n",
    "        for idx, _ in enumerate(range(len(self.fc_layers))):\n",
    "            mlp_vector = self.fc_layers[idx](mlp_vector)\n",
    "            mlp_vector = torch.nn.ReLU()(mlp_vector)\n",
    "        # concat MLP & MF\n",
    "        vector = torch.cat([mlp_vector, mf_vector], dim=-1)\n",
    "        # prediction\n",
    "        logits = self.affine_output(vector)\n",
    "        rating = self.logistic(logits)\n",
    "        return rating"
   ]
  },
  {
   "cell_type": "code",
   "execution_count": 14,
   "id": "8ac6ae2f-5d1f-4541-896b-cb2d1f806551",
   "metadata": {},
   "outputs": [
    {
     "data": {
      "text/plain": [
       "<All keys matched successfully>"
      ]
     },
     "execution_count": 14,
     "metadata": {},
     "output_type": "execute_result"
    }
   ],
   "source": [
    "config = {\n",
    "    'num_users': 6040,\n",
    "    'num_items': 3706,\n",
    "    'latent_dim_mf': 8,\n",
    "    'latent_dim_mlp': 16,\n",
    "    'layers': [32, 16, 8]\n",
    "}\n",
    "model = NeuMF(config)\n",
    "model.load_state_dict(torch.load('./model/ncf_mlm'))"
   ]
  },
  {
   "cell_type": "code",
   "execution_count": 19,
   "id": "45fd4228-a3f4-4693-91c1-6ab262bbbaf6",
   "metadata": {},
   "outputs": [],
   "source": [
    "device = torch.device(\"cuda\" if torch.cuda.is_available() else \"cpu\")"
   ]
  },
  {
   "cell_type": "markdown",
   "id": "6cc369fc-8d80-41c6-8e77-08855970bb6f",
   "metadata": {},
   "source": [
    "# Predict test data"
   ]
  },
  {
   "cell_type": "code",
   "execution_count": 32,
   "id": "80db479a-da2e-4d5c-9e84-7ebaf3ffdcfb",
   "metadata": {},
   "outputs": [],
   "source": [
    "user_pred_info = {}\n",
    "top = 10\n",
    "\n",
    "def test_model(model, test_loader):\n",
    "    # eval mode\n",
    "    model.eval()\n",
    "    user_pred_info = defaultdict(list)\n",
    "    with torch.no_grad():\n",
    "        with tqdm(test_loader, unit='batch') as tepoch:\n",
    "            for samples in tepoch:\n",
    "                user_items, y = samples[0], samples[1]\n",
    "                user_items, y = user_items.to(device), y.to(device)\n",
    "                # user=0, item=1\n",
    "                y_pred = model(user_items[:, 0], user_items[:, 1])\n",
    "                for user_item, p in zip(user_items, y_pred):\n",
    "                    # save model predict result\n",
    "                    user_pred_info[int(user_item[0])].append((int(user_item[1]), float(p)))\n",
    "    return user_pred_info"
   ]
  },
  {
   "cell_type": "code",
   "execution_count": 33,
   "id": "c0e348d1-ac22-49b6-bd4d-bad608210087",
   "metadata": {},
   "outputs": [
    {
     "name": "stderr",
     "output_type": "stream",
     "text": [
      "100%|██████████████████████████████████████████████████████████████████████████████████████████████████████████████████████████████████████████████████████████████████████████████████████████████████████████████████████████████████████| 391/391 [00:04<00:00, 93.74batch/s]\n"
     ]
    }
   ],
   "source": [
    "ncf_user_pred_info = test_model(model, test_dataloader)"
   ]
  },
  {
   "cell_type": "markdown",
   "id": "326ba940-8dba-44c0-bce8-9e447afa5eea",
   "metadata": {},
   "source": [
    "# Get Ranked list"
   ]
  },
  {
   "cell_type": "code",
   "execution_count": 34,
   "id": "418e6877-cf41-437d-8df2-49b0eec54707",
   "metadata": {},
   "outputs": [
    {
     "name": "stderr",
     "output_type": "stream",
     "text": [
      "100%|████████████████████████████████████████████████████████████████████████████████████████████████████████████████████████████████████████████████████████████████████████████████████████████████████████████████████████████████████| 6035/6035 [00:00<00:00, 98230.88it/s]\n"
     ]
    }
   ],
   "source": [
    "for user, data_info in tqdm(ncf_user_pred_info.items(), total=len(ncf_user_pred_info), position=0, leave=True):\n",
    "    # sorted by high prop and slice by top(10)\n",
    "    ranklist = sorted(data_info, key=lambda s : s[1], reverse=True)[:top]\n",
    "    # to list\n",
    "    ranklist = list(dict.fromkeys([r[0] for r in ranklist]))\n",
    "    user_pred_info[str(user)] = ranklist"
   ]
  },
  {
   "cell_type": "code",
   "execution_count": 88,
   "id": "dafb43dc-8084-44af-8d0e-89aef28e1b07",
   "metadata": {},
   "outputs": [
    {
     "name": "stdout",
     "output_type": "stream",
     "text": [
      "사용자 : 2741의 추천 리스트 : [3613, 3306, 191, 2855, 957, 996, 2577]\n"
     ]
    }
   ],
   "source": [
    "for user, recom_list in user_pred_info.items():\n",
    "    print(f\"사용자 : {user}의 추천 리스트 : {recom_list}\")\n",
    "    break"
   ]
  },
  {
   "cell_type": "code",
   "execution_count": null,
   "id": "b9ed6550-8f10-4d7c-968b-9ee884ab6c67",
   "metadata": {},
   "outputs": [],
   "source": []
  },
  {
   "cell_type": "code",
   "execution_count": null,
   "id": "1fb0999e-eded-415b-9f34-bbac7b8f5c05",
   "metadata": {},
   "outputs": [],
   "source": []
  },
  {
   "cell_type": "markdown",
   "id": "d49bb508-9498-435d-8a1f-cd708be81c1c",
   "metadata": {},
   "source": [
    "# Sampling random users"
   ]
  },
  {
   "cell_type": "code",
   "execution_count": 45,
   "id": "4b0f0016-50ac-4652-996d-1bc6eb0f9770",
   "metadata": {},
   "outputs": [
    {
     "data": {
      "text/plain": [
       "['1662']"
      ]
     },
     "execution_count": 45,
     "metadata": {},
     "output_type": "execute_result"
    }
   ],
   "source": [
    "random_user_origin = random.sample(list(user_pred_info.keys()), 1)\n",
    "sample_user_pred_info = user_pred_info[random_user_origin[0]]\n",
    "random_user = list(map(int, random_user_origin))\n",
    "random_user = label_encoders['user_id'].inverse_transform(random_user)\n",
    "random_user = list(map(str, random_user))\n",
    "random_user"
   ]
  },
  {
   "cell_type": "code",
   "execution_count": 46,
   "id": "11562c70-94cf-4124-b0ae-4f7c9a31aa1e",
   "metadata": {},
   "outputs": [
    {
     "data": {
      "text/plain": [
       "array(['296', '1580', '3943', '3863'], dtype=object)"
      ]
     },
     "execution_count": 46,
     "metadata": {},
     "output_type": "execute_result"
    }
   ],
   "source": [
    "sample_user_pred_info_trans = list(map(int, sample_user_pred_info)) \n",
    "sample_user_pred_info_trans = label_encoders['movie_id'].inverse_transform(sample_user_pred_info_trans)\n",
    "sample_user_pred_info_trans"
   ]
  },
  {
   "cell_type": "code",
   "execution_count": 47,
   "id": "5a64030a-7d71-4130-bcfa-d3a9fedffecb",
   "metadata": {},
   "outputs": [
    {
     "data": {
      "text/html": [
       "<div>\n",
       "<style scoped>\n",
       "    .dataframe tbody tr th:only-of-type {\n",
       "        vertical-align: middle;\n",
       "    }\n",
       "\n",
       "    .dataframe tbody tr th {\n",
       "        vertical-align: top;\n",
       "    }\n",
       "\n",
       "    .dataframe thead th {\n",
       "        text-align: right;\n",
       "    }\n",
       "</style>\n",
       "<table border=\"1\" class=\"dataframe\">\n",
       "  <thead>\n",
       "    <tr style=\"text-align: right;\">\n",
       "      <th></th>\n",
       "      <th>movie_id</th>\n",
       "      <th>title</th>\n",
       "      <th>movie_decade</th>\n",
       "      <th>genre</th>\n",
       "    </tr>\n",
       "  </thead>\n",
       "  <tbody>\n",
       "    <tr>\n",
       "      <th>293</th>\n",
       "      <td>296</td>\n",
       "      <td>Pulp Fiction</td>\n",
       "      <td>1990s</td>\n",
       "      <td>Crime</td>\n",
       "    </tr>\n",
       "    <tr>\n",
       "      <th>1539</th>\n",
       "      <td>1580</td>\n",
       "      <td>Men in Black</td>\n",
       "      <td>1990s</td>\n",
       "      <td>Action</td>\n",
       "    </tr>\n",
       "    <tr>\n",
       "      <th>3793</th>\n",
       "      <td>3863</td>\n",
       "      <td>Cell, The</td>\n",
       "      <td>2000s</td>\n",
       "      <td>Sci-Fi</td>\n",
       "    </tr>\n",
       "    <tr>\n",
       "      <th>3873</th>\n",
       "      <td>3943</td>\n",
       "      <td>Bamboozled</td>\n",
       "      <td>2000s</td>\n",
       "      <td>Comedy</td>\n",
       "    </tr>\n",
       "  </tbody>\n",
       "</table>\n",
       "</div>"
      ],
      "text/plain": [
       "     movie_id         title movie_decade   genre\n",
       "293       296  Pulp Fiction        1990s   Crime\n",
       "1539     1580  Men in Black        1990s  Action\n",
       "3793     3863     Cell, The        2000s  Sci-Fi\n",
       "3873     3943    Bamboozled        2000s  Comedy"
      ]
     },
     "execution_count": 47,
     "metadata": {},
     "output_type": "execute_result"
    }
   ],
   "source": [
    "movie_info[movie_info['movie_id'].isin(sample_user_pred_info_trans)]"
   ]
  },
  {
   "cell_type": "code",
   "execution_count": 48,
   "id": "32f28b93-ef7a-4c2c-be23-9301cafae59e",
   "metadata": {},
   "outputs": [
    {
     "name": "stdout",
     "output_type": "stream",
     "text": [
      "(25, 15)\n"
     ]
    },
    {
     "data": {
      "text/html": [
       "<div>\n",
       "<style scoped>\n",
       "    .dataframe tbody tr th:only-of-type {\n",
       "        vertical-align: middle;\n",
       "    }\n",
       "\n",
       "    .dataframe tbody tr th {\n",
       "        vertical-align: top;\n",
       "    }\n",
       "\n",
       "    .dataframe thead th {\n",
       "        text-align: right;\n",
       "    }\n",
       "</style>\n",
       "<table border=\"1\" class=\"dataframe\">\n",
       "  <thead>\n",
       "    <tr style=\"text-align: right;\">\n",
       "      <th></th>\n",
       "      <th>user_id</th>\n",
       "      <th>movie_id</th>\n",
       "      <th>movie_decade</th>\n",
       "      <th>movie_year</th>\n",
       "      <th>rating_year</th>\n",
       "      <th>rating_month</th>\n",
       "      <th>rating_decade</th>\n",
       "      <th>genre1</th>\n",
       "      <th>genre2</th>\n",
       "      <th>genre3</th>\n",
       "      <th>gender</th>\n",
       "      <th>age</th>\n",
       "      <th>occupation</th>\n",
       "      <th>zip</th>\n",
       "      <th>label</th>\n",
       "    </tr>\n",
       "  </thead>\n",
       "  <tbody>\n",
       "    <tr>\n",
       "      <th>962948</th>\n",
       "      <td>1662</td>\n",
       "      <td>527</td>\n",
       "      <td>1990s</td>\n",
       "      <td>1993</td>\n",
       "      <td>2000</td>\n",
       "      <td>11</td>\n",
       "      <td>2000s</td>\n",
       "      <td>Drama</td>\n",
       "      <td>War</td>\n",
       "      <td>non data</td>\n",
       "      <td>M</td>\n",
       "      <td>25</td>\n",
       "      <td>12</td>\n",
       "      <td>94121</td>\n",
       "      <td>1</td>\n",
       "    </tr>\n",
       "    <tr>\n",
       "      <th>962949</th>\n",
       "      <td>1662</td>\n",
       "      <td>2762</td>\n",
       "      <td>1990s</td>\n",
       "      <td>1999</td>\n",
       "      <td>2000</td>\n",
       "      <td>11</td>\n",
       "      <td>2000s</td>\n",
       "      <td>Thriller</td>\n",
       "      <td>non data</td>\n",
       "      <td>non data</td>\n",
       "      <td>M</td>\n",
       "      <td>25</td>\n",
       "      <td>12</td>\n",
       "      <td>94121</td>\n",
       "      <td>1</td>\n",
       "    </tr>\n",
       "    <tr>\n",
       "      <th>962950</th>\n",
       "      <td>1662</td>\n",
       "      <td>1259</td>\n",
       "      <td>1980s</td>\n",
       "      <td>1986</td>\n",
       "      <td>2000</td>\n",
       "      <td>11</td>\n",
       "      <td>2000s</td>\n",
       "      <td>Adventure</td>\n",
       "      <td>Comedy</td>\n",
       "      <td>Drama</td>\n",
       "      <td>M</td>\n",
       "      <td>25</td>\n",
       "      <td>12</td>\n",
       "      <td>94121</td>\n",
       "      <td>1</td>\n",
       "    </tr>\n",
       "    <tr>\n",
       "      <th>962951</th>\n",
       "      <td>1662</td>\n",
       "      <td>589</td>\n",
       "      <td>1990s</td>\n",
       "      <td>1991</td>\n",
       "      <td>2000</td>\n",
       "      <td>11</td>\n",
       "      <td>2000s</td>\n",
       "      <td>Action</td>\n",
       "      <td>Sci-Fi</td>\n",
       "      <td>Thriller</td>\n",
       "      <td>M</td>\n",
       "      <td>25</td>\n",
       "      <td>12</td>\n",
       "      <td>94121</td>\n",
       "      <td>1</td>\n",
       "    </tr>\n",
       "    <tr>\n",
       "      <th>962952</th>\n",
       "      <td>1662</td>\n",
       "      <td>2858</td>\n",
       "      <td>1990s</td>\n",
       "      <td>1999</td>\n",
       "      <td>2000</td>\n",
       "      <td>11</td>\n",
       "      <td>2000s</td>\n",
       "      <td>Comedy</td>\n",
       "      <td>Drama</td>\n",
       "      <td>non data</td>\n",
       "      <td>M</td>\n",
       "      <td>25</td>\n",
       "      <td>12</td>\n",
       "      <td>94121</td>\n",
       "      <td>1</td>\n",
       "    </tr>\n",
       "  </tbody>\n",
       "</table>\n",
       "</div>"
      ],
      "text/plain": [
       "       user_id movie_id movie_decade movie_year rating_year rating_month  \\\n",
       "962948    1662      527        1990s       1993        2000           11   \n",
       "962949    1662     2762        1990s       1999        2000           11   \n",
       "962950    1662     1259        1980s       1986        2000           11   \n",
       "962951    1662      589        1990s       1991        2000           11   \n",
       "962952    1662     2858        1990s       1999        2000           11   \n",
       "\n",
       "       rating_decade     genre1    genre2    genre3 gender age occupation  \\\n",
       "962948         2000s      Drama       War  non data      M  25         12   \n",
       "962949         2000s   Thriller  non data  non data      M  25         12   \n",
       "962950         2000s  Adventure    Comedy     Drama      M  25         12   \n",
       "962951         2000s     Action    Sci-Fi  Thriller      M  25         12   \n",
       "962952         2000s     Comedy     Drama  non data      M  25         12   \n",
       "\n",
       "          zip label  \n",
       "962948  94121     1  \n",
       "962949  94121     1  \n",
       "962950  94121     1  \n",
       "962951  94121     1  \n",
       "962952  94121     1  "
      ]
     },
     "execution_count": 48,
     "metadata": {},
     "output_type": "execute_result"
    }
   ],
   "source": [
    "sample_user_history = movielens_rcmm_origin[movielens_rcmm_origin['user_id'] == random_user[0]].fillna('non data')\n",
    "print(sample_user_history.shape)\n",
    "sample_user_history.head()"
   ]
  },
  {
   "cell_type": "code",
   "execution_count": null,
   "id": "4d527c69-eeb6-4337-aa36-d81791cdfa56",
   "metadata": {},
   "outputs": [],
   "source": []
  },
  {
   "cell_type": "markdown",
   "id": "b65b5906-e36e-4d1f-a725-5687b52cd3ad",
   "metadata": {},
   "source": [
    "# Set user info by history --> to LLM input"
   ]
  },
  {
   "cell_type": "code",
   "execution_count": 49,
   "id": "4c8fc4d4-2e96-4daa-aa85-7daa17faa783",
   "metadata": {},
   "outputs": [],
   "source": [
    "# Recent user info\n",
    "recent_ratio = int(sample_user_history.shape[0] * 0.1)\n",
    "user_data = movielens_rcmm_origin[movielens_rcmm_origin['user_id'] == random_user[0]].fillna('non data')[['movie_decade', 'movie_year', 'rating_year', 'rating_decade', 'genre1', 'genre2', 'gender', 'age', 'zip']].values[:recent_ratio]\n",
    "recent_user_hist_info = \"#### Item interaction information\\n\\n- (item) : metadata information of items \\n- (user) : metadata information of users\"\n",
    "for cnt, rows in enumerate(user_data):\n",
    "    recent_user_hist_info += f\"\\n\\n{cnt+1}th.\\n- (Item) Movie Release Decade (ex. 1990s movies): {rows[0]}\\n- (Item) Movie Release Year: {rows[1]}\\n- (User) Rating Year: {rows[2]}\\n- (User) Rating Decade (e.g., 1990s ratings): {rows[3]}\\n- (Item) Genre 1: {rows[4]}\\n- (Item) Genre 2: {rows[5]}\\n- (User) Gender: {rows[6]}\\n- (User) Age: {rows[7]}\\n- (User) Address Information (zipcode): {rows[8]}\\n##### End of {cnt+1}th item interaction information\""
   ]
  },
  {
   "cell_type": "code",
   "execution_count": 51,
   "id": "edf2ac7e-1a0f-414a-ba46-84c35e00432b",
   "metadata": {},
   "outputs": [],
   "source": [
    "# Entire user history information\n",
    "user_data = movielens_rcmm_origin[movielens_rcmm_origin['user_id'] == random_user[0]].fillna('non data')[['movie_decade', 'movie_year', 'rating_year', 'rating_decade', 'genre1', 'genre2', 'gender', 'age', 'zip']].values\n",
    "user_all_hist_info = \"#### Item interaction information\\n\\n- (item) : metadata information of items \\n- (user) : metadata information of users\"\n",
    "for cnt, rows in enumerate(user_data):\n",
    "    user_all_hist_info += f\"\\n\\n{cnt+1}th.\\n- (Item) Movie Release Decade (ex. 1990s movies): {rows[0]}\\n- (Item) Movie Release Year: {rows[1]}\\n- (User) Rating Year: {rows[2]}\\n- (User) Rating Decade (e.g., 1990s ratings): {rows[3]}\\n- (Item) Genre 1: {rows[4]}\\n- (Item) Genre 2: {rows[5]}\\n- (User) Gender: {rows[6]}\\n- (User) Age: {rows[7]}\\n- (User) Address Information (zipcode): {rows[8]}\\n##### End of {cnt+1}th item interaction information\""
   ]
  },
  {
   "cell_type": "code",
   "execution_count": 52,
   "id": "18f086d7-128c-4542-b7af-59917caa67e1",
   "metadata": {},
   "outputs": [
    {
     "name": "stdout",
     "output_type": "stream",
     "text": [
      "#### Item interaction information\n",
      "\n",
      "- (item) : metadata information of items \n",
      "- (user) : metadata information of users\n",
      "\n",
      "1th.\n",
      "- (Item) Movie Release Decade (ex. 1990s movies): 1990s\n",
      "- (Item) Movie Release Year: 1993\n",
      "- (User) Rating Year: 2000\n",
      "- (User) Rating Decade (e.g., 1990s ratings): 2000s\n",
      "- (Item) Genre 1: Drama\n",
      "- (Item) Genre 2: War\n",
      "- (User) Gender: M\n",
      "- (User) Age: 25\n",
      "- (User) Address Information (zipcode): 94121\n",
      "##### End of 1th item interaction information\n",
      "\n",
      "2th.\n",
      "- (Item) Movie Release Decade (ex. 1990s movies): 1990s\n",
      "- (Item) Movie Release Year: 1999\n",
      "- (User) Rating Year: 2000\n",
      "- (User) Rating Decade (e.g., 1990s ratings): 2000s\n",
      "- (Item) Genre 1: Thriller\n",
      "- (Item) Genre 2: non data\n",
      "- (User) Gender: M\n",
      "- (User) Age: 25\n",
      "- (User) Address Information (zipcode): 94121\n",
      "##### End of 2th item interaction information\n"
     ]
    }
   ],
   "source": [
    "print(recent_user_hist_info)"
   ]
  },
  {
   "cell_type": "code",
   "execution_count": 55,
   "id": "5b3fc1a7-1412-4258-b2e7-b7f507d765c3",
   "metadata": {},
   "outputs": [
    {
     "name": "stdout",
     "output_type": "stream",
     "text": [
      "#### Item interaction information\n",
      "\n",
      "- (item) : metadata information of items \n",
      "- (user) : metadata information of users\n",
      "\n",
      "1th.\n",
      "- (Item) Movie Release Decade (ex. 1990s movies): 1990s\n",
      "- (Item) Movie Release Year: 1993\n",
      "- (User) Rating Year: 2000\n",
      "- (User) Rating Decade (e.g., 1990s ratings): 2000s\n",
      "- (Item) Genre 1: Drama\n",
      "- (Item) Genre 2: War\n",
      "- (User) Gender: M\n",
      "- (User) Age: 25\n",
      "- (User) Address Information (zipcode): 94121\n",
      "##### End of 1th item interaction information\n",
      "\n",
      "2th.\n",
      "- (Item) Movie Release Decade (ex. 1990s movies): 1990s\n",
      "- (Item) Movie Release Year: 1999\n",
      "- (User) Rating Year: 2000\n",
      "- (User) Rating Decade (e.g., 1990s ratings): 2000s\n",
      "- (Item) Genre 1: Thriller\n",
      "- (Item) Genre 2: non data\n",
      "- (User) Gender: M\n",
      "- (User) Age: 25\n",
      "- (User) Address Information (zipcode): 94121\n",
      "##### End of 2th item interaction information\n",
      "\n",
      "3th.\n",
      "- (Item) Movie Release Decade (ex. 1990s movies): 1980s\n",
      "- (Item) Movie Release Year: 1986\n",
      "- (User) Rating Year: 2000\n",
      "- (User) Rating Decade (e.g., 1990s ratings): 2000s\n",
      "- (Item) Genre 1: Adventure\n",
      "- (Item) Genre 2: Comedy\n",
      "- (User) Gender: M\n",
      "- (User) Age: 25\n",
      "- (User) Address Information (zipcode): 94121\n",
      "##### End of 3th item interaction information\n",
      "\n",
      "4th.\n",
      "- (Item) Movie Release Decade (ex. 1990s movies): 1990s\n",
      "- (Item) Movie Release Year: 1991\n",
      "- (User) Rating Year: 2000\n",
      "- (User) Rating Decade (e.g., 1990s ratings): 2000s\n",
      "- (Item) Genre 1: Action\n",
      "- (Item) Genre 2: Sci-Fi\n",
      "- (User) Gender: M\n",
      "- (User) Age: 25\n",
      "- (User) Address Information (zipcode): 94121\n",
      "##### End of \n"
     ]
    }
   ],
   "source": [
    "print(user_all_hist_info[:1500])"
   ]
  },
  {
   "cell_type": "code",
   "execution_count": null,
   "id": "779d69b8-19e4-43d5-9abf-4bcb24b4baa1",
   "metadata": {},
   "outputs": [],
   "source": []
  },
  {
   "cell_type": "markdown",
   "id": "7a478f9e-8a3c-4bad-915f-7e9558fe4947",
   "metadata": {},
   "source": [
    "# Summay user history"
   ]
  },
  {
   "cell_type": "code",
   "execution_count": 56,
   "id": "256bd0f1-f29b-4fa5-9fd2-6fa34bddbaca",
   "metadata": {},
   "outputs": [
    {
     "name": "stdout",
     "output_type": "stream",
     "text": [
      "9011\n"
     ]
    }
   ],
   "source": [
    "print(len(user_all_hist_info))"
   ]
  },
  {
   "cell_type": "code",
   "execution_count": 57,
   "id": "c8ef4f29-0c12-481e-9bc4-928c45cf8a9d",
   "metadata": {},
   "outputs": [],
   "source": [
    "docs = []\n",
    "text_splitter = RecursiveCharacterTextSplitter(chunk_size=550, chunk_overlap=100)\n",
    "texts = text_splitter.split_text(user_all_hist_info)\n",
    "docs += [Document(page_content=t) for t in texts]"
   ]
  },
  {
   "cell_type": "code",
   "execution_count": 58,
   "id": "aa4d9dd9-49f7-42d5-b0e3-8618e7eac0a3",
   "metadata": {},
   "outputs": [],
   "source": [
    "template = '''Below is the user's past history information. Considering the user's main characteristics, persona, preferences, and meaningful patterns, please summarize the user information within 700 characters.\\n\\n##### User history information: {text}.'''\n",
    "\n",
    "prompt = PromptTemplate(template=template, input_variables=['text'])\n",
    "\n",
    "llm = ChatOpenAI(temperature=0, model='gpt-4o')\n"
   ]
  },
  {
   "cell_type": "code",
   "execution_count": 59,
   "id": "8958d283-47ed-4549-9620-338e2771d052",
   "metadata": {},
   "outputs": [
    {
     "name": "stderr",
     "output_type": "stream",
     "text": [
      "/Users/leesoojin/opt/anaconda3/envs/llm/lib/python3.9/site-packages/langchain_core/_api/deprecation.py:117: LangChainDeprecationWarning: The function `run` was deprecated in LangChain 0.1.0 and will be removed in 0.2.0. Use invoke instead.\n",
      "  warn_deprecated(\n"
     ]
    }
   ],
   "source": [
    "chain = load_summarize_chain(llm, \n",
    "                             chain_type='map_reduce', \n",
    "                             map_prompt=prompt, combine_prompt=prompt,\n",
    "                             verbose=False)\n",
    "summary = chain.run(docs)"
   ]
  },
  {
   "cell_type": "code",
   "execution_count": 60,
   "id": "bce8a1cb-5e94-439c-9a99-fc0692846a1e",
   "metadata": {},
   "outputs": [
    {
     "data": {
      "text/plain": [
       "'The user is a 25-year-old male residing in the 94121 zip code area. He has a strong preference for movies from the 1990s, with specific interests in various years such as 1990, 1991, 1993, 1994, 1996, 1997, 1998, and 1999. His favorite genres include drama, thriller, comedy, romance, action, adventure, and sci-fi. He tends to rate movies primarily in the early 2000s, suggesting a nostalgic inclination towards films from his formative years. This user enjoys revisiting and evaluating films from the past, reflecting a blend of nostalgia and a methodical approach to his movie-watching habits.'"
      ]
     },
     "execution_count": 60,
     "metadata": {},
     "output_type": "execute_result"
    }
   ],
   "source": [
    "summary"
   ]
  },
  {
   "cell_type": "markdown",
   "id": "d8e95e1d-ed30-46af-9080-30afd5ff5301",
   "metadata": {},
   "source": [
    "# Get user persona and characteristics"
   ]
  },
  {
   "cell_type": "code",
   "execution_count": 62,
   "id": "1c98559a-d4d1-4ab3-84b6-90978e0c43b0",
   "metadata": {},
   "outputs": [],
   "source": [
    "\n",
    "template = \"\"\"Below is the user's item interaction history information. Using this data, please derive the user's main characteristics, persona, preferences, and meaningful patterns.\n",
    "\n",
    "# User history information\n",
    "{user_hist}\n",
    "\n",
    "Please output in the following format:\n",
    "\n",
    "- Main characteristics of the user: string\n",
    "- User persona: string\n",
    "- User preferences: string\n",
    "- Meaningful patterns of the user: string\n",
    "\n",
    "\"\"\"\n",
    "prompt = PromptTemplate(template=template, input_variables=['user_hist'])\n"
   ]
  },
  {
   "cell_type": "code",
   "execution_count": 63,
   "id": "782e9108-ee4b-4e4a-90c4-9b1b951367fd",
   "metadata": {},
   "outputs": [],
   "source": [
    "llm = ChatOpenAI(temperature=0, model='gpt-4o')\n",
    "chain = LLMChain(llm=llm, prompt=prompt)\n",
    "user_recent_summary = chain.invoke({'user_hist': recent_user_hist_info})"
   ]
  },
  {
   "cell_type": "code",
   "execution_count": 64,
   "id": "db87eae3-0cbe-4c5b-98bd-6bf0c5b6e99e",
   "metadata": {},
   "outputs": [
    {
     "data": {
      "text/plain": [
       "{'user_hist': '#### Item interaction information\\n\\n- (item) : metadata information of items \\n- (user) : metadata information of users\\n\\n1th.\\n- (Item) Movie Release Decade (ex. 1990s movies): 1990s\\n- (Item) Movie Release Year: 1993\\n- (User) Rating Year: 2000\\n- (User) Rating Decade (e.g., 1990s ratings): 2000s\\n- (Item) Genre 1: Drama\\n- (Item) Genre 2: War\\n- (User) Gender: M\\n- (User) Age: 25\\n- (User) Address Information (zipcode): 94121\\n##### End of 1th item interaction information\\n\\n2th.\\n- (Item) Movie Release Decade (ex. 1990s movies): 1990s\\n- (Item) Movie Release Year: 1999\\n- (User) Rating Year: 2000\\n- (User) Rating Decade (e.g., 1990s ratings): 2000s\\n- (Item) Genre 1: Thriller\\n- (Item) Genre 2: non data\\n- (User) Gender: M\\n- (User) Age: 25\\n- (User) Address Information (zipcode): 94121\\n##### End of 2th item interaction information',\n",
       " 'text': \"- Main characteristics of the user: The user is a 25-year-old male living in the 94121 zip code area. He rated movies in the early 2000s.\\n\\n- User persona: The user is a young adult male who enjoys watching movies from the 1990s. He seems to have a preference for serious and intense genres, indicating a possible interest in thought-provoking and emotionally engaging content.\\n\\n- User preferences: The user prefers movies from the 1990s, particularly those in the Drama and Thriller genres. He also shows an interest in War-themed movies.\\n\\n- Meaningful patterns of the user: The user consistently rates movies from the 1990s, suggesting a nostalgic or particular interest in that decade's filmography. His genre preferences lean towards Drama and Thriller, with a specific inclination towards movies that are intense and possibly have complex narratives. The user’s ratings are from the early 2000s, indicating that he might have been actively watching and rating movies during that period.\"}"
      ]
     },
     "execution_count": 64,
     "metadata": {},
     "output_type": "execute_result"
    }
   ],
   "source": [
    "user_recent_summary"
   ]
  },
  {
   "cell_type": "code",
   "execution_count": null,
   "id": "084708fc-76c9-473c-aafe-befb6a5e4a7b",
   "metadata": {},
   "outputs": [],
   "source": []
  },
  {
   "cell_type": "markdown",
   "id": "2141d6ec-5166-46d9-aa78-67353b982b1e",
   "metadata": {},
   "source": [
    "# Explainbilty"
   ]
  },
  {
   "cell_type": "code",
   "execution_count": 66,
   "id": "4b532750-d7c5-4453-9141-9013c722c115",
   "metadata": {},
   "outputs": [
    {
     "data": {
      "text/html": [
       "<div>\n",
       "<style scoped>\n",
       "    .dataframe tbody tr th:only-of-type {\n",
       "        vertical-align: middle;\n",
       "    }\n",
       "\n",
       "    .dataframe tbody tr th {\n",
       "        vertical-align: top;\n",
       "    }\n",
       "\n",
       "    .dataframe thead th {\n",
       "        text-align: right;\n",
       "    }\n",
       "</style>\n",
       "<table border=\"1\" class=\"dataframe\">\n",
       "  <thead>\n",
       "    <tr style=\"text-align: right;\">\n",
       "      <th></th>\n",
       "      <th>movie_id</th>\n",
       "      <th>title</th>\n",
       "      <th>movie_decade</th>\n",
       "      <th>genre</th>\n",
       "    </tr>\n",
       "  </thead>\n",
       "  <tbody>\n",
       "    <tr>\n",
       "      <th>293</th>\n",
       "      <td>296</td>\n",
       "      <td>Pulp Fiction</td>\n",
       "      <td>1990s</td>\n",
       "      <td>Crime</td>\n",
       "    </tr>\n",
       "    <tr>\n",
       "      <th>1539</th>\n",
       "      <td>1580</td>\n",
       "      <td>Men in Black</td>\n",
       "      <td>1990s</td>\n",
       "      <td>Action</td>\n",
       "    </tr>\n",
       "    <tr>\n",
       "      <th>3793</th>\n",
       "      <td>3863</td>\n",
       "      <td>Cell, The</td>\n",
       "      <td>2000s</td>\n",
       "      <td>Sci-Fi</td>\n",
       "    </tr>\n",
       "    <tr>\n",
       "      <th>3873</th>\n",
       "      <td>3943</td>\n",
       "      <td>Bamboozled</td>\n",
       "      <td>2000s</td>\n",
       "      <td>Comedy</td>\n",
       "    </tr>\n",
       "  </tbody>\n",
       "</table>\n",
       "</div>"
      ],
      "text/plain": [
       "     movie_id         title movie_decade   genre\n",
       "293       296  Pulp Fiction        1990s   Crime\n",
       "1539     1580  Men in Black        1990s  Action\n",
       "3793     3863     Cell, The        2000s  Sci-Fi\n",
       "3873     3943    Bamboozled        2000s  Comedy"
      ]
     },
     "execution_count": 66,
     "metadata": {},
     "output_type": "execute_result"
    }
   ],
   "source": [
    "user_recom_result = movie_info[movie_info['movie_id'].isin(sample_user_pred_info_trans)]\n",
    "user_recom_result"
   ]
  },
  {
   "cell_type": "code",
   "execution_count": 67,
   "id": "4326e016-2703-48b4-a57f-920c35a2d37a",
   "metadata": {},
   "outputs": [],
   "source": [
    "user_recent_summary_info = user_recent_summary['text']\n",
    "user_entire_summary_info = summary"
   ]
  },
  {
   "cell_type": "code",
   "execution_count": null,
   "id": "f1f5ceda-fbc7-4728-a50a-c9133e29c6d5",
   "metadata": {},
   "outputs": [],
   "source": []
  },
  {
   "cell_type": "code",
   "execution_count": 70,
   "id": "7670b00b-a5e7-4688-8aec-3f3c527d27b0",
   "metadata": {},
   "outputs": [],
   "source": [
    "user_data = user_recom_result[['title', 'movie_decade', 'genre']].values\n",
    "\n",
    "user_recom_info = \"#### User Recommendation List\\n\\n\"\n",
    "for cnt, rows in enumerate(user_data):\n",
    "    user_recom_info += f\"\\n\\nRecommendation {cnt+1}:\\n- Item Title: {rows[0]}\\n- (Item) Movie Release Decade (e.g., 1990s movie): {rows[1]}\\n- Item Genre (Category): {rows[2]}\\n##### End of Recommendation {cnt+1} Information\"\n"
   ]
  },
  {
   "cell_type": "code",
   "execution_count": 71,
   "id": "24c0018e-ee5c-4014-b809-a8066d7dcbe1",
   "metadata": {},
   "outputs": [
    {
     "data": {
      "text/plain": [
       "'#### User Recommendation List\\n\\n\\n\\nRecommendation 1:\\n- Item Title: Pulp Fiction\\n- (Item) Movie Release Decade (e.g., 1990s movie): 1990s\\n- Item Genre (Category): Crime\\n##### End of Recommendation 1 Information\\n\\nRecommendation 2:\\n- Item Title: Men in Black\\n- (Item) Movie Release Decade (e.g., 1990s movie): 1990s\\n- Item Genre (Category): Action\\n##### End of Recommendation 2 Information\\n\\nRecommendation 3:\\n- Item Title: Cell, The\\n- (Item) Movie Release Decade (e.g., 1990s movie): 2000s\\n- Item Genre (Category): Sci-Fi\\n##### End of Recommendation 3 Information\\n\\nRecommendation 4:\\n- Item Title: Bamboozled\\n- (Item) Movie Release Decade (e.g., 1990s movie): 2000s\\n- Item Genre (Category): Comedy\\n##### End of Recommendation 4 Information'"
      ]
     },
     "execution_count": 71,
     "metadata": {},
     "output_type": "execute_result"
    }
   ],
   "source": [
    "user_recom_info"
   ]
  },
  {
   "cell_type": "code",
   "execution_count": 73,
   "id": "f286da16-9e56-422e-835c-3a30c3b1c132",
   "metadata": {},
   "outputs": [],
   "source": [
    "template = \"\"\"The data below contains the user's main characteristics, persona, and preference information. There is preference information based on the entire history and also based on the last 10 interactions.\n",
    "\n",
    "#### Main characteristics based on the entire history\n",
    "{user_entire_summary_info}\n",
    "\n",
    "#### Main characteristics based on the last 10 interactions\n",
    "{user_recent_summary_info}\n",
    "\n",
    "Below is the item information recommended by the recommendation system for the above user.\n",
    "\n",
    "#### Recommendation results provided by the recommendation system\n",
    "{recom_list}\n",
    "\n",
    "Your role is to write the reason for the recommendation by comparing the user's main characteristics information with the recommendation results provided by the recommendation system.\n",
    "The recommendation results are a list of items provided by the recommendation system based on the user's past interaction information.\n",
    "If you determine that the reason for the recommendation is inappropriate, please say, 'It does not seem to be an appropriate recommendation' and also provide the reason why it is not appropriate.\n",
    "\n",
    "To summarize your role:\n",
    "\n",
    "- Consider the user information (main characteristics based on the entire history, main characteristics based on the last 10 interactions)\n",
    "- The recommendation results are a recommendation list provided by the recommendation system based on the user's past interactions\n",
    "- Write the reason for the recommendation by referring to the recommendation results and user information\n",
    "- If the reason for the recommendation is inappropriate, say 'It does not seem to be an appropriate recommendation' and explain why it is not appropriate\n",
    "- Do not include unnecessary words, perform the requested task and respond\n",
    "- If you are unsure, think it over and if you really don't know, respond with 'I don't know'\n",
    "\"\"\"\n",
    "\n",
    "prompt = PromptTemplate(template=template, input_variables=['user_entire_summary_info', 'user_recent_summary_info', 'recom_list'])\n"
   ]
  },
  {
   "cell_type": "code",
   "execution_count": 74,
   "id": "d00e2774-4fde-4170-8b58-e35f73d8b062",
   "metadata": {},
   "outputs": [],
   "source": [
    "llm = ChatOpenAI(temperature=0, model='gpt-4o')\n",
    "chain = LLMChain(llm=llm, prompt=prompt)\n",
    "recommend_explain = chain.invoke({'user_entire_summary_info': user_entire_summary_info, 'user_recent_summary_info':user_recent_summary_info, 'recom_list':user_recom_info})"
   ]
  },
  {
   "cell_type": "code",
   "execution_count": null,
   "id": "53e9bce0-3bbe-485b-832e-29ea87fbc86e",
   "metadata": {},
   "outputs": [],
   "source": []
  },
  {
   "cell_type": "code",
   "execution_count": 75,
   "id": "9d6f2762-93ca-4df3-a3b7-11f355c5376f",
   "metadata": {},
   "outputs": [
    {
     "name": "stdout",
     "output_type": "stream",
     "text": [
      "#### Recommendation 1: Pulp Fiction\n",
      "- **Reason for Recommendation:** \"Pulp Fiction\" is a 1990s movie, aligning with the user's strong preference for films from that decade. The genre is Crime, which, while not explicitly listed in the user's favorite genres, often overlaps with Drama and Thriller, both of which the user enjoys. The intense and complex narrative of \"Pulp Fiction\" fits the user's interest in thought-provoking and emotionally engaging content.\n",
      "\n",
      "#### Recommendation 2: Men in Black\n",
      "- **Reason for Recommendation:** \"Men in Black\" is a 1990s movie, which matches the user's preference for that decade. The genre is Action, one of the user's favorite genres. This recommendation aligns well with the user's interest in 1990s films and action-packed narratives.\n",
      "\n",
      "#### Recommendation 3: The Cell\n",
      "- **It does not seem to be an appropriate recommendation**\n",
      "- **Reason:** \"The Cell\" is a 2000s movie, which does not align with the user's strong preference for 1990s films. Although the genre is Sci-Fi, which the user enjoys, the decade mismatch makes this recommendation less suitable.\n",
      "\n",
      "#### Recommendation 4: Bamboozled\n",
      "- **It does not seem to be an appropriate recommendation**\n",
      "- **Reason:** \"Bamboozled\" is a 2000s movie, which does not align with the user's preference for 1990s films. Additionally, while the user enjoys Comedy, the primary interest is in Drama and Thriller genres, making this recommendation less fitting.\n"
     ]
    }
   ],
   "source": [
    "print(recommend_explain['text'])"
   ]
  },
  {
   "cell_type": "code",
   "execution_count": null,
   "id": "be6791ea-2f1d-4b86-9ee5-6bea5e15779b",
   "metadata": {},
   "outputs": [],
   "source": []
  },
  {
   "cell_type": "code",
   "execution_count": null,
   "id": "6a4a3352-8baa-47b9-ac15-febfbe6ca3de",
   "metadata": {},
   "outputs": [],
   "source": []
  },
  {
   "cell_type": "code",
   "execution_count": null,
   "id": "6f87e87a-84ab-4864-a5c4-4e509f8120ba",
   "metadata": {},
   "outputs": [],
   "source": []
  }
 ],
 "metadata": {
  "kernelspec": {
   "display_name": "Python 3 (ipykernel)",
   "language": "python",
   "name": "python3"
  },
  "language_info": {
   "codemirror_mode": {
    "name": "ipython",
    "version": 3
   },
   "file_extension": ".py",
   "mimetype": "text/x-python",
   "name": "python",
   "nbconvert_exporter": "python",
   "pygments_lexer": "ipython3",
   "version": "3.9.18"
  }
 },
 "nbformat": 4,
 "nbformat_minor": 5
}
